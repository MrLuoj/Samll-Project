{
  "nbformat": 4,
  "nbformat_minor": 0,
  "metadata": {
    "colab": {
      "name": "BiLSTM-CRF.ipynb",
      "provenance": []
    },
    "kernelspec": {
      "name": "python3",
      "display_name": "Python 3"
    },
    "accelerator": "GPU"
  },
  "cells": [
    {
      "cell_type": "code",
      "metadata": {
        "id": "W6n6GBFKwtLK",
        "colab_type": "code",
        "colab": {}
      },
      "source": [
        "import pandas as pd\n",
        "import numpy as np"
      ],
      "execution_count": 0,
      "outputs": []
    },
    {
      "cell_type": "markdown",
      "metadata": {
        "id": "qP_2HIyxDkb_",
        "colab_type": "text"
      },
      "source": [
        "# 数据预处理"
      ]
    },
    {
      "cell_type": "code",
      "metadata": {
        "id": "f3Y8DzGKw4-F",
        "colab_type": "code",
        "colab": {}
      },
      "source": [
        "data = pd.read_csv(\"./ner_dataset.csv\", encoding=\"latin1\")   "
      ],
      "execution_count": 0,
      "outputs": []
    },
    {
      "cell_type": "code",
      "metadata": {
        "id": "-ExcmZmVxGee",
        "colab_type": "code",
        "colab": {
          "base_uri": "https://localhost:8080/",
          "height": 204
        },
        "outputId": "863fbc49-afad-4ec7-f5f0-20cf3c5c5cbe"
      },
      "source": [
        "data.head()"
      ],
      "execution_count": 3,
      "outputs": [
        {
          "output_type": "execute_result",
          "data": {
            "text/html": [
              "<div>\n",
              "<style scoped>\n",
              "    .dataframe tbody tr th:only-of-type {\n",
              "        vertical-align: middle;\n",
              "    }\n",
              "\n",
              "    .dataframe tbody tr th {\n",
              "        vertical-align: top;\n",
              "    }\n",
              "\n",
              "    .dataframe thead th {\n",
              "        text-align: right;\n",
              "    }\n",
              "</style>\n",
              "<table border=\"1\" class=\"dataframe\">\n",
              "  <thead>\n",
              "    <tr style=\"text-align: right;\">\n",
              "      <th></th>\n",
              "      <th>Sentence #</th>\n",
              "      <th>Word</th>\n",
              "      <th>POS</th>\n",
              "      <th>Tag</th>\n",
              "    </tr>\n",
              "  </thead>\n",
              "  <tbody>\n",
              "    <tr>\n",
              "      <th>0</th>\n",
              "      <td>Sentence: 1</td>\n",
              "      <td>Thousands</td>\n",
              "      <td>NNS</td>\n",
              "      <td>O</td>\n",
              "    </tr>\n",
              "    <tr>\n",
              "      <th>1</th>\n",
              "      <td>NaN</td>\n",
              "      <td>of</td>\n",
              "      <td>IN</td>\n",
              "      <td>O</td>\n",
              "    </tr>\n",
              "    <tr>\n",
              "      <th>2</th>\n",
              "      <td>NaN</td>\n",
              "      <td>demonstrators</td>\n",
              "      <td>NNS</td>\n",
              "      <td>O</td>\n",
              "    </tr>\n",
              "    <tr>\n",
              "      <th>3</th>\n",
              "      <td>NaN</td>\n",
              "      <td>have</td>\n",
              "      <td>VBP</td>\n",
              "      <td>O</td>\n",
              "    </tr>\n",
              "    <tr>\n",
              "      <th>4</th>\n",
              "      <td>NaN</td>\n",
              "      <td>marched</td>\n",
              "      <td>VBN</td>\n",
              "      <td>O</td>\n",
              "    </tr>\n",
              "  </tbody>\n",
              "</table>\n",
              "</div>"
            ],
            "text/plain": [
              "    Sentence #           Word  POS Tag\n",
              "0  Sentence: 1      Thousands  NNS   O\n",
              "1          NaN             of   IN   O\n",
              "2          NaN  demonstrators  NNS   O\n",
              "3          NaN           have  VBP   O\n",
              "4          NaN        marched  VBN   O"
            ]
          },
          "metadata": {
            "tags": []
          },
          "execution_count": 3
        }
      ]
    },
    {
      "cell_type": "code",
      "metadata": {
        "id": "kDkCFEV9xK8x",
        "colab_type": "code",
        "colab": {}
      },
      "source": [
        "data = data.fillna(method=\"ffill\")   #用前面的值填充后面的空白"
      ],
      "execution_count": 0,
      "outputs": []
    },
    {
      "cell_type": "code",
      "metadata": {
        "id": "BwqN23Q8xLs8",
        "colab_type": "code",
        "colab": {
          "base_uri": "https://localhost:8080/",
          "height": 204
        },
        "outputId": "f9ae81d7-b6bb-4c18-e84a-235291fce439"
      },
      "source": [
        "data.head()"
      ],
      "execution_count": 5,
      "outputs": [
        {
          "output_type": "execute_result",
          "data": {
            "text/html": [
              "<div>\n",
              "<style scoped>\n",
              "    .dataframe tbody tr th:only-of-type {\n",
              "        vertical-align: middle;\n",
              "    }\n",
              "\n",
              "    .dataframe tbody tr th {\n",
              "        vertical-align: top;\n",
              "    }\n",
              "\n",
              "    .dataframe thead th {\n",
              "        text-align: right;\n",
              "    }\n",
              "</style>\n",
              "<table border=\"1\" class=\"dataframe\">\n",
              "  <thead>\n",
              "    <tr style=\"text-align: right;\">\n",
              "      <th></th>\n",
              "      <th>Sentence #</th>\n",
              "      <th>Word</th>\n",
              "      <th>POS</th>\n",
              "      <th>Tag</th>\n",
              "    </tr>\n",
              "  </thead>\n",
              "  <tbody>\n",
              "    <tr>\n",
              "      <th>0</th>\n",
              "      <td>Sentence: 1</td>\n",
              "      <td>Thousands</td>\n",
              "      <td>NNS</td>\n",
              "      <td>O</td>\n",
              "    </tr>\n",
              "    <tr>\n",
              "      <th>1</th>\n",
              "      <td>Sentence: 1</td>\n",
              "      <td>of</td>\n",
              "      <td>IN</td>\n",
              "      <td>O</td>\n",
              "    </tr>\n",
              "    <tr>\n",
              "      <th>2</th>\n",
              "      <td>Sentence: 1</td>\n",
              "      <td>demonstrators</td>\n",
              "      <td>NNS</td>\n",
              "      <td>O</td>\n",
              "    </tr>\n",
              "    <tr>\n",
              "      <th>3</th>\n",
              "      <td>Sentence: 1</td>\n",
              "      <td>have</td>\n",
              "      <td>VBP</td>\n",
              "      <td>O</td>\n",
              "    </tr>\n",
              "    <tr>\n",
              "      <th>4</th>\n",
              "      <td>Sentence: 1</td>\n",
              "      <td>marched</td>\n",
              "      <td>VBN</td>\n",
              "      <td>O</td>\n",
              "    </tr>\n",
              "  </tbody>\n",
              "</table>\n",
              "</div>"
            ],
            "text/plain": [
              "    Sentence #           Word  POS Tag\n",
              "0  Sentence: 1      Thousands  NNS   O\n",
              "1  Sentence: 1             of   IN   O\n",
              "2  Sentence: 1  demonstrators  NNS   O\n",
              "3  Sentence: 1           have  VBP   O\n",
              "4  Sentence: 1        marched  VBN   O"
            ]
          },
          "metadata": {
            "tags": []
          },
          "execution_count": 5
        }
      ]
    },
    {
      "cell_type": "code",
      "metadata": {
        "id": "BHvaGVx-xP4Y",
        "colab_type": "code",
        "colab": {}
      },
      "source": [
        "df1 = pd.DataFrame({ \"Sentence #\":['Sentence: 47960']*6, \n",
        "                    \"Word\":['my', 'name', 'is', 'abhishek', 'kumar','.'],  \n",
        "                    \"POS\":[None]*6,\n",
        "                    \"Tag\":['O','O','O','B-per','I-per','O']})\n",
        "df2 = pd.DataFrame({ \"Sentence #\":['Sentence: 47961']*7, \n",
        "                    \"Word\":['my', 'name', 'is', 'ritik', 'kumar','gupta','.'],  \n",
        "                    \"POS\":[None]*7,\n",
        "                    \"Tag\":['O','O','O','B-per','I-per','I-per','O']})"
      ],
      "execution_count": 0,
      "outputs": []
    },
    {
      "cell_type": "code",
      "metadata": {
        "id": "pmj6FkcoxQgE",
        "colab_type": "code",
        "colab": {}
      },
      "source": [
        "data = data.append(df1)\n",
        "data = data.append(df2)"
      ],
      "execution_count": 0,
      "outputs": []
    },
    {
      "cell_type": "code",
      "metadata": {
        "id": "ubETzPeyxStB",
        "colab_type": "code",
        "colab": {
          "base_uri": "https://localhost:8080/",
          "height": 204
        },
        "outputId": "aaeffe1d-2350-41b3-a480-f24d725ab91b"
      },
      "source": [
        "data.tail()"
      ],
      "execution_count": 8,
      "outputs": [
        {
          "output_type": "execute_result",
          "data": {
            "text/html": [
              "<div>\n",
              "<style scoped>\n",
              "    .dataframe tbody tr th:only-of-type {\n",
              "        vertical-align: middle;\n",
              "    }\n",
              "\n",
              "    .dataframe tbody tr th {\n",
              "        vertical-align: top;\n",
              "    }\n",
              "\n",
              "    .dataframe thead th {\n",
              "        text-align: right;\n",
              "    }\n",
              "</style>\n",
              "<table border=\"1\" class=\"dataframe\">\n",
              "  <thead>\n",
              "    <tr style=\"text-align: right;\">\n",
              "      <th></th>\n",
              "      <th>Sentence #</th>\n",
              "      <th>Word</th>\n",
              "      <th>POS</th>\n",
              "      <th>Tag</th>\n",
              "    </tr>\n",
              "  </thead>\n",
              "  <tbody>\n",
              "    <tr>\n",
              "      <th>2</th>\n",
              "      <td>Sentence: 47961</td>\n",
              "      <td>is</td>\n",
              "      <td>None</td>\n",
              "      <td>O</td>\n",
              "    </tr>\n",
              "    <tr>\n",
              "      <th>3</th>\n",
              "      <td>Sentence: 47961</td>\n",
              "      <td>ritik</td>\n",
              "      <td>None</td>\n",
              "      <td>B-per</td>\n",
              "    </tr>\n",
              "    <tr>\n",
              "      <th>4</th>\n",
              "      <td>Sentence: 47961</td>\n",
              "      <td>kumar</td>\n",
              "      <td>None</td>\n",
              "      <td>I-per</td>\n",
              "    </tr>\n",
              "    <tr>\n",
              "      <th>5</th>\n",
              "      <td>Sentence: 47961</td>\n",
              "      <td>gupta</td>\n",
              "      <td>None</td>\n",
              "      <td>I-per</td>\n",
              "    </tr>\n",
              "    <tr>\n",
              "      <th>6</th>\n",
              "      <td>Sentence: 47961</td>\n",
              "      <td>.</td>\n",
              "      <td>None</td>\n",
              "      <td>O</td>\n",
              "    </tr>\n",
              "  </tbody>\n",
              "</table>\n",
              "</div>"
            ],
            "text/plain": [
              "        Sentence #   Word   POS    Tag\n",
              "2  Sentence: 47961     is  None      O\n",
              "3  Sentence: 47961  ritik  None  B-per\n",
              "4  Sentence: 47961  kumar  None  I-per\n",
              "5  Sentence: 47961  gupta  None  I-per\n",
              "6  Sentence: 47961      .  None      O"
            ]
          },
          "metadata": {
            "tags": []
          },
          "execution_count": 8
        }
      ]
    },
    {
      "cell_type": "code",
      "metadata": {
        "id": "wppULkJixWhJ",
        "colab_type": "code",
        "colab": {
          "base_uri": "https://localhost:8080/",
          "height": 34
        },
        "outputId": "0851f125-2fdf-43d2-fefc-f984545c554e"
      },
      "source": [
        "words = list(set(data[\"Word\"].values))\n",
        "words.append(\"ENDPAD\")\n",
        "n_words = len(words)\n",
        "n_words"
      ],
      "execution_count": 9,
      "outputs": [
        {
          "output_type": "execute_result",
          "data": {
            "text/plain": [
              "35183"
            ]
          },
          "metadata": {
            "tags": []
          },
          "execution_count": 9
        }
      ]
    },
    {
      "cell_type": "code",
      "metadata": {
        "id": "keyY35Z5xYns",
        "colab_type": "code",
        "colab": {
          "base_uri": "https://localhost:8080/",
          "height": 34
        },
        "outputId": "e2747c97-86eb-4d47-b960-1579b2cac8c5"
      },
      "source": [
        "tags = list(set(data[\"Tag\"].values))\n",
        "n_tags = len(tags)\n",
        "n_tags"
      ],
      "execution_count": 10,
      "outputs": [
        {
          "output_type": "execute_result",
          "data": {
            "text/plain": [
              "17"
            ]
          },
          "metadata": {
            "tags": []
          },
          "execution_count": 10
        }
      ]
    },
    {
      "cell_type": "code",
      "metadata": {
        "id": "zBaLhKTKxZOY",
        "colab_type": "code",
        "colab": {}
      },
      "source": [
        "class SentenceGetter(object):\n",
        "    def __init__(self,data):\n",
        "        self.n_sent = 1\n",
        "        self.data = data\n",
        "        self.empty = False\n",
        "        self.grouped = self.data.groupby(\"Sentence #\").apply(lambda x:[(w,p,t) for w,p,t in zip(x[\"Word\"].values.tolist(),\n",
        "                                                                                               x[\"POS\"].values.tolist(),\n",
        "                                                                                               x[\"Tag\"].values.tolist())])\n",
        "        self.sentences = [s for s in self.grouped]\n",
        "        \n",
        "    def get_next(self):\n",
        "        try:\n",
        "            s = self.grouped[\"Sentence: {}\".format(self.n_sent)]\n",
        "            self.n_sent += 1\n",
        "            return s\n",
        "        except:\n",
        "            return None"
      ],
      "execution_count": 0,
      "outputs": []
    },
    {
      "cell_type": "code",
      "metadata": {
        "id": "UzNnf1gVxbg5",
        "colab_type": "code",
        "colab": {}
      },
      "source": [
        "getter = SentenceGetter(data)"
      ],
      "execution_count": 0,
      "outputs": []
    },
    {
      "cell_type": "code",
      "metadata": {
        "id": "nVL8P6kvxdZH",
        "colab_type": "code",
        "colab": {
          "base_uri": "https://localhost:8080/",
          "height": 54
        },
        "outputId": "50e20a08-61cc-4594-d5d6-e45419528400"
      },
      "source": [
        "sent = getter.get_next()\n",
        "print(sent)"
      ],
      "execution_count": 13,
      "outputs": [
        {
          "output_type": "stream",
          "text": [
            "[('Thousands', 'NNS', 'O'), ('of', 'IN', 'O'), ('demonstrators', 'NNS', 'O'), ('have', 'VBP', 'O'), ('marched', 'VBN', 'O'), ('through', 'IN', 'O'), ('London', 'NNP', 'B-geo'), ('to', 'TO', 'O'), ('protest', 'VB', 'O'), ('the', 'DT', 'O'), ('war', 'NN', 'O'), ('in', 'IN', 'O'), ('Iraq', 'NNP', 'B-geo'), ('and', 'CC', 'O'), ('demand', 'VB', 'O'), ('the', 'DT', 'O'), ('withdrawal', 'NN', 'O'), ('of', 'IN', 'O'), ('British', 'JJ', 'B-gpe'), ('troops', 'NNS', 'O'), ('from', 'IN', 'O'), ('that', 'DT', 'O'), ('country', 'NN', 'O'), ('.', '.', 'O')]\n"
          ],
          "name": "stdout"
        }
      ]
    },
    {
      "cell_type": "code",
      "metadata": {
        "id": "gh4bJrNuxgsO",
        "colab_type": "code",
        "colab": {}
      },
      "source": [
        "sentences = getter.sentences    #得到所有的句子"
      ],
      "execution_count": 0,
      "outputs": []
    },
    {
      "cell_type": "code",
      "metadata": {
        "id": "1oMjtfwqxih2",
        "colab_type": "code",
        "colab": {
          "base_uri": "https://localhost:8080/",
          "height": 425
        },
        "outputId": "b1b43cdc-fea5-4d47-c2ae-dc6fecd5e0e7"
      },
      "source": [
        "sentences[0]     #每一个句子的每一个单词以元组的形式表示"
      ],
      "execution_count": 15,
      "outputs": [
        {
          "output_type": "execute_result",
          "data": {
            "text/plain": [
              "[('Thousands', 'NNS', 'O'),\n",
              " ('of', 'IN', 'O'),\n",
              " ('demonstrators', 'NNS', 'O'),\n",
              " ('have', 'VBP', 'O'),\n",
              " ('marched', 'VBN', 'O'),\n",
              " ('through', 'IN', 'O'),\n",
              " ('London', 'NNP', 'B-geo'),\n",
              " ('to', 'TO', 'O'),\n",
              " ('protest', 'VB', 'O'),\n",
              " ('the', 'DT', 'O'),\n",
              " ('war', 'NN', 'O'),\n",
              " ('in', 'IN', 'O'),\n",
              " ('Iraq', 'NNP', 'B-geo'),\n",
              " ('and', 'CC', 'O'),\n",
              " ('demand', 'VB', 'O'),\n",
              " ('the', 'DT', 'O'),\n",
              " ('withdrawal', 'NN', 'O'),\n",
              " ('of', 'IN', 'O'),\n",
              " ('British', 'JJ', 'B-gpe'),\n",
              " ('troops', 'NNS', 'O'),\n",
              " ('from', 'IN', 'O'),\n",
              " ('that', 'DT', 'O'),\n",
              " ('country', 'NN', 'O'),\n",
              " ('.', '.', 'O')]"
            ]
          },
          "metadata": {
            "tags": []
          },
          "execution_count": 15
        }
      ]
    },
    {
      "cell_type": "code",
      "metadata": {
        "id": "tngfQDDaxkxC",
        "colab_type": "code",
        "colab": {}
      },
      "source": [
        "max_len = 75\n",
        "word2idx = {w:i for i,w in enumerate(words)}    #词的字典\n",
        "tag2idx = {t:i for i,t in enumerate(tags)}      #标签的字典"
      ],
      "execution_count": 0,
      "outputs": []
    },
    {
      "cell_type": "code",
      "metadata": {
        "id": "j6QtV38Zxmms",
        "colab_type": "code",
        "colab": {
          "base_uri": "https://localhost:8080/",
          "height": 34
        },
        "outputId": "2ef1329d-49f8-49d3-9403-e25aa3480acf"
      },
      "source": [
        "word2idx[\"Obama\"]"
      ],
      "execution_count": 17,
      "outputs": [
        {
          "output_type": "execute_result",
          "data": {
            "text/plain": [
              "26986"
            ]
          },
          "metadata": {
            "tags": []
          },
          "execution_count": 17
        }
      ]
    },
    {
      "cell_type": "code",
      "metadata": {
        "id": "Ylp17M6LxotV",
        "colab_type": "code",
        "colab": {
          "base_uri": "https://localhost:8080/",
          "height": 34
        },
        "outputId": "0b2f62b5-b121-43c5-fd9c-d62c44d16f8c"
      },
      "source": [
        "tag2idx[\"B-geo\"]"
      ],
      "execution_count": 18,
      "outputs": [
        {
          "output_type": "execute_result",
          "data": {
            "text/plain": [
              "10"
            ]
          },
          "metadata": {
            "tags": []
          },
          "execution_count": 18
        }
      ]
    },
    {
      "cell_type": "code",
      "metadata": {
        "id": "QiRdBu65xq1J",
        "colab_type": "code",
        "colab": {
          "base_uri": "https://localhost:8080/",
          "height": 34
        },
        "outputId": "26df9309-f13a-46d1-ed96-022c25f97f6f"
      },
      "source": [
        "from keras.preprocessing.sequence import pad_sequences\n",
        "\n",
        "X = [[word2idx[w[0]] for w in s] for s in sentences]  #组成句子\n",
        "X = pad_sequences(maxlen=max_len,sequences= X, padding=\"post\", value=n_words-1)   #做padding"
      ],
      "execution_count": 19,
      "outputs": [
        {
          "output_type": "stream",
          "text": [
            "Using TensorFlow backend.\n"
          ],
          "name": "stderr"
        }
      ]
    },
    {
      "cell_type": "code",
      "metadata": {
        "id": "AKEbYkt4xrX1",
        "colab_type": "code",
        "colab": {}
      },
      "source": [
        "Y = [[tag2idx[w[2]] for w in s] for s in sentences]\n",
        "Y = pad_sequences(maxlen=max_len,sequences=Y,padding=\"post\",value=tag2idx[\"O\"])"
      ],
      "execution_count": 0,
      "outputs": []
    },
    {
      "cell_type": "code",
      "metadata": {
        "id": "q8nD26LpxtyD",
        "colab_type": "code",
        "colab": {}
      },
      "source": [
        "from keras.utils import to_categorical\n",
        "\n",
        "y = [to_categorical(i, num_classes=n_tags) for i in Y]   #将标签转化为二进制"
      ],
      "execution_count": 0,
      "outputs": []
    },
    {
      "cell_type": "code",
      "metadata": {
        "id": "BFkqlPrDxv1c",
        "colab_type": "code",
        "colab": {}
      },
      "source": [
        "from sklearn.model_selection import train_test_split\n",
        "\n",
        "X_tr, X_te, y_tr, y_te = train_test_split(X, y, test_size=0.1)"
      ],
      "execution_count": 0,
      "outputs": []
    },
    {
      "cell_type": "code",
      "metadata": {
        "id": "OAtkuTRlxzHy",
        "colab_type": "code",
        "colab": {
          "base_uri": "https://localhost:8080/",
          "height": 326
        },
        "outputId": "32ba5e1b-bfa2-47e3-d5bb-2956500199c0"
      },
      "source": [
        "!pip install git+https://www.github.com/keras-team/keras-contrib.git"
      ],
      "execution_count": 23,
      "outputs": [
        {
          "output_type": "stream",
          "text": [
            "Collecting git+https://www.github.com/keras-team/keras-contrib.git\n",
            "  Cloning https://www.github.com/keras-team/keras-contrib.git to /tmp/pip-req-build-j78qtsgk\n",
            "  Running command git clone -q https://www.github.com/keras-team/keras-contrib.git /tmp/pip-req-build-j78qtsgk\n",
            "Requirement already satisfied (use --upgrade to upgrade): keras-contrib==2.0.8 from git+https://www.github.com/keras-team/keras-contrib.git in /usr/local/lib/python3.6/dist-packages\n",
            "Requirement already satisfied: keras in /usr/local/lib/python3.6/dist-packages (from keras-contrib==2.0.8) (2.3.1)\n",
            "Requirement already satisfied: h5py in /usr/local/lib/python3.6/dist-packages (from keras->keras-contrib==2.0.8) (2.10.0)\n",
            "Requirement already satisfied: numpy>=1.9.1 in /usr/local/lib/python3.6/dist-packages (from keras->keras-contrib==2.0.8) (1.18.4)\n",
            "Requirement already satisfied: scipy>=0.14 in /usr/local/lib/python3.6/dist-packages (from keras->keras-contrib==2.0.8) (1.4.1)\n",
            "Requirement already satisfied: keras-preprocessing>=1.0.5 in /usr/local/lib/python3.6/dist-packages (from keras->keras-contrib==2.0.8) (1.1.0)\n",
            "Requirement already satisfied: keras-applications>=1.0.6 in /usr/local/lib/python3.6/dist-packages (from keras->keras-contrib==2.0.8) (1.0.8)\n",
            "Requirement already satisfied: pyyaml in /usr/local/lib/python3.6/dist-packages (from keras->keras-contrib==2.0.8) (3.13)\n",
            "Requirement already satisfied: six>=1.9.0 in /usr/local/lib/python3.6/dist-packages (from keras->keras-contrib==2.0.8) (1.12.0)\n",
            "Building wheels for collected packages: keras-contrib\n",
            "  Building wheel for keras-contrib (setup.py) ... \u001b[?25l\u001b[?25hdone\n",
            "  Created wheel for keras-contrib: filename=keras_contrib-2.0.8-cp36-none-any.whl size=101064 sha256=dc4c72254dc2bb4d008ad424ee51b39382930d7f714156f3693d6446d705f9f7\n",
            "  Stored in directory: /tmp/pip-ephem-wheel-cache-unclvfhb/wheels/11/27/c8/4ed56de7b55f4f61244e2dc6ef3cdbaff2692527a2ce6502ba\n",
            "Successfully built keras-contrib\n"
          ],
          "name": "stdout"
        }
      ]
    },
    {
      "cell_type": "markdown",
      "metadata": {
        "id": "QVVmP8guDAfC",
        "colab_type": "text"
      },
      "source": [
        "# 构建BiLSTM-CRF模型"
      ]
    },
    {
      "cell_type": "code",
      "metadata": {
        "id": "YwctG-41x_fW",
        "colab_type": "code",
        "colab": {}
      },
      "source": [
        "from keras.models import Model, Input, Sequential\n",
        "from keras.layers import LSTM, Embedding, Dense, TimeDistributed, Dropout, Bidirectional\n",
        "from keras_contrib.layers import CRF\n",
        "import keras as k"
      ],
      "execution_count": 0,
      "outputs": []
    },
    {
      "cell_type": "code",
      "metadata": {
        "id": "LeH0QUAAyf77",
        "colab_type": "code",
        "colab": {}
      },
      "source": [
        "model = Sequential()    \n",
        "model.add(Embedding(input_dim=n_words+1, output_dim=200, input_length=max_len))\n",
        "model.add(Dropout(0.5))\n",
        "model.add(Bidirectional(LSTM(units=128,return_sequences=True, recurrent_dropout=0.1)))\n",
        "model.add(TimeDistributed(Dense(n_tags, activation='relu')))\n",
        "crf_layer = CRF(n_tags)\n",
        "model.add(crf_layer)"
      ],
      "execution_count": 0,
      "outputs": []
    },
    {
      "cell_type": "markdown",
      "metadata": {
        "id": "KyvBPA3_DEjb",
        "colab_type": "text"
      },
      "source": [
        "# 打印出模型概况"
      ]
    },
    {
      "cell_type": "code",
      "metadata": {
        "id": "4x2TJmWG0c3k",
        "colab_type": "code",
        "colab": {
          "base_uri": "https://localhost:8080/",
          "height": 323
        },
        "outputId": "15e3ff4b-cccd-41b6-ccab-5bb1ea8a025b"
      },
      "source": [
        "model.summary()    "
      ],
      "execution_count": 26,
      "outputs": [
        {
          "output_type": "stream",
          "text": [
            "Model: \"sequential_1\"\n",
            "_________________________________________________________________\n",
            "Layer (type)                 Output Shape              Param #   \n",
            "=================================================================\n",
            "embedding_1 (Embedding)      (None, 75, 200)           7036800   \n",
            "_________________________________________________________________\n",
            "dropout_1 (Dropout)          (None, 75, 200)           0         \n",
            "_________________________________________________________________\n",
            "bidirectional_1 (Bidirection (None, 75, 256)           336896    \n",
            "_________________________________________________________________\n",
            "time_distributed_1 (TimeDist (None, 75, 17)            4369      \n",
            "_________________________________________________________________\n",
            "crf_1 (CRF)                  (None, 75, 17)            629       \n",
            "=================================================================\n",
            "Total params: 7,378,694\n",
            "Trainable params: 7,378,694\n",
            "Non-trainable params: 0\n",
            "_________________________________________________________________\n"
          ],
          "name": "stdout"
        }
      ]
    },
    {
      "cell_type": "markdown",
      "metadata": {
        "id": "PszX-IbvB7RI",
        "colab_type": "text"
      },
      "source": [
        "定义好模型之后我们需要通过编译（compile）来对学习过程进行配置，我们可以为模型的编译指定各类参数包括：优化器optimizer，损失函数loss，评估指标metrics。\n",
        "编译的过程也是 Keras 将我们刚定义好的模型转化为底层平台（TensorFlow 或 Theano）结构描述过程，底层平台会负责后续的计算任务，GPU、CPU 的调度选择，分布式运行等。"
      ]
    },
    {
      "cell_type": "code",
      "metadata": {
        "id": "3Y2deNU10hPt",
        "colab_type": "code",
        "colab": {
          "base_uri": "https://localhost:8080/",
          "height": 105
        },
        "outputId": "3aae9249-24d6-4541-8cea-474cdf93e960"
      },
      "source": [
        "model.compile(optimizer='adam',loss=crf_layer.loss_function, metrics=[crf_layer.accuracy])"
      ],
      "execution_count": 27,
      "outputs": [
        {
          "output_type": "stream",
          "text": [
            "/usr/local/lib/python3.6/dist-packages/keras_contrib/layers/crf.py:346: UserWarning: CRF.loss_function is deprecated and it might be removed in the future. Please use losses.crf_loss instead.\n",
            "  warnings.warn('CRF.loss_function is deprecated '\n",
            "/usr/local/lib/python3.6/dist-packages/keras_contrib/layers/crf.py:353: UserWarning: CRF.accuracy is deprecated and it might be removed in the future. Please use metrics.crf_accuracy\n",
            "  warnings.warn('CRF.accuracy is deprecated and it '\n"
          ],
          "name": "stderr"
        }
      ]
    },
    {
      "cell_type": "markdown",
      "metadata": {
        "id": "zSswPd5GCSHn",
        "colab_type": "text"
      },
      "source": [
        "编译后的模型就可开始训练（fit）了，fit 的过程可以简单的理解为就是通过测试数据来确定神经元间连接权重（weight）的过程。\n",
        "测试数据分为两部分，矩阵类型的输入数据X，和对应的数组类型的输出y数据。\n",
        "神经网络训练通常采用的是反向传播（Backpropagation）算法，因此我们需要指定训练周期nb_epoch和每次计算的数据量batch_size。\n",
        "训练完成后，history 会保存模型训练后的相关描述。"
      ]
    },
    {
      "cell_type": "code",
      "metadata": {
        "id": "uSOUT4Tr1bkR",
        "colab_type": "code",
        "colab": {
          "base_uri": "https://localhost:8080/",
          "height": 258
        },
        "outputId": "d23168bb-5ec7-4ce7-dc77-b77115837019"
      },
      "source": [
        "history = model.fit(X_tr, np.array(y_tr), batch_size=128, epochs=5, validation_split=0.1, verbose=1)"
      ],
      "execution_count": 28,
      "outputs": [
        {
          "output_type": "stream",
          "text": [
            "/usr/local/lib/python3.6/dist-packages/tensorflow/python/framework/indexed_slices.py:434: UserWarning: Converting sparse IndexedSlices to a dense Tensor of unknown shape. This may consume a large amount of memory.\n",
            "  \"Converting sparse IndexedSlices to a dense Tensor of unknown shape. \"\n"
          ],
          "name": "stderr"
        },
        {
          "output_type": "stream",
          "text": [
            "Train on 38847 samples, validate on 4317 samples\n",
            "Epoch 1/5\n",
            "38847/38847 [==============================] - 113s 3ms/step - loss: 0.2615 - crf_viterbi_accuracy: 0.9396 - val_loss: 0.1086 - val_crf_viterbi_accuracy: 0.9664\n",
            "Epoch 2/5\n",
            "38847/38847 [==============================] - 114s 3ms/step - loss: 0.0698 - crf_viterbi_accuracy: 0.9797 - val_loss: 0.0419 - val_crf_viterbi_accuracy: 0.9873\n",
            "Epoch 3/5\n",
            "38847/38847 [==============================] - 112s 3ms/step - loss: 0.0298 - crf_viterbi_accuracy: 0.9896 - val_loss: 0.0275 - val_crf_viterbi_accuracy: 0.9892\n",
            "Epoch 4/5\n",
            "38847/38847 [==============================] - 112s 3ms/step - loss: 0.0168 - crf_viterbi_accuracy: 0.9918 - val_loss: 0.0190 - val_crf_viterbi_accuracy: 0.9903\n",
            "Epoch 5/5\n",
            "38847/38847 [==============================] - 113s 3ms/step - loss: 0.0082 - crf_viterbi_accuracy: 0.9928 - val_loss: 0.0134 - val_crf_viterbi_accuracy: 0.9905\n"
          ],
          "name": "stdout"
        }
      ]
    },
    {
      "cell_type": "code",
      "metadata": {
        "id": "Pg2T4kdu1sGp",
        "colab_type": "code",
        "colab": {}
      },
      "source": [
        "hist = pd.DataFrame(history.history)"
      ],
      "execution_count": 0,
      "outputs": []
    },
    {
      "cell_type": "markdown",
      "metadata": {
        "id": "_KHwSKGBDLUq",
        "colab_type": "text"
      },
      "source": [
        "# 可视化训练与测试的准确率"
      ]
    },
    {
      "cell_type": "code",
      "metadata": {
        "id": "q8eEt5XO2agn",
        "colab_type": "code",
        "colab": {
          "base_uri": "https://localhost:8080/",
          "height": 700
        },
        "outputId": "15a4924e-bf82-4bf9-d88d-4dd88c53cf44"
      },
      "source": [
        "import matplotlib.pyplot as plt\n",
        "\n",
        "plt.style.use(\"ggplot\")\n",
        "plt.figure(figsize=(12,12))\n",
        "plt.plot(hist[\"crf_viterbi_accuracy\"])\n",
        "plt.plot(hist[\"val_crf_viterbi_accuracy\"])\n",
        "plt.show()"
      ],
      "execution_count": 30,
      "outputs": [
        {
          "output_type": "display_data",
          "data": {
            "image/png": "[encoded data removed]",
            "text/plain": [
              "<Figure size 864x864 with 1 Axes>"
            ]
          },
          "metadata": {
            "tags": []
          }
        }
      ]
    },
    {
      "cell_type": "code",
      "metadata": {
        "id": "nVIlZ-kn31v3",
        "colab_type": "code",
        "colab": {
          "base_uri": "https://localhost:8080/",
          "height": 190
        },
        "outputId": "89843e9f-87d3-41c5-d1c1-437071d6edd4"
      },
      "source": [
        "!pip install seqeval"
      ],
      "execution_count": 31,
      "outputs": [
        {
          "output_type": "stream",
          "text": [
            "Requirement already satisfied: seqeval in /usr/local/lib/python3.6/dist-packages (0.0.12)\n",
            "Requirement already satisfied: Keras>=2.2.4 in /usr/local/lib/python3.6/dist-packages (from seqeval) (2.3.1)\n",
            "Requirement already satisfied: numpy>=1.14.0 in /usr/local/lib/python3.6/dist-packages (from seqeval) (1.18.4)\n",
            "Requirement already satisfied: pyyaml in /usr/local/lib/python3.6/dist-packages (from Keras>=2.2.4->seqeval) (3.13)\n",
            "Requirement already satisfied: six>=1.9.0 in /usr/local/lib/python3.6/dist-packages (from Keras>=2.2.4->seqeval) (1.12.0)\n",
            "Requirement already satisfied: h5py in /usr/local/lib/python3.6/dist-packages (from Keras>=2.2.4->seqeval) (2.10.0)\n",
            "Requirement already satisfied: keras-applications>=1.0.6 in /usr/local/lib/python3.6/dist-packages (from Keras>=2.2.4->seqeval) (1.0.8)\n",
            "Requirement already satisfied: keras-preprocessing>=1.0.5 in /usr/local/lib/python3.6/dist-packages (from Keras>=2.2.4->seqeval) (1.1.0)\n",
            "Requirement already satisfied: scipy>=0.14 in /usr/local/lib/python3.6/dist-packages (from Keras>=2.2.4->seqeval) (1.4.1)\n"
          ],
          "name": "stdout"
        }
      ]
    },
    {
      "cell_type": "code",
      "metadata": {
        "id": "5MG_hQpK34DR",
        "colab_type": "code",
        "colab": {}
      },
      "source": [
        "from seqeval.metrics import precision_score, recall_score, f1_score, classification_report"
      ],
      "execution_count": 0,
      "outputs": []
    },
    {
      "cell_type": "markdown",
      "metadata": {
        "id": "8r4Jj6PDCwag",
        "colab_type": "text"
      },
      "source": [
        "当模型的性能评估达到要求后，我们就可以用训练好的模型在新的数据上进行预测了。\n",
        "predictions是预测返回的结果，数据格式与输出层的输出格式相同。"
      ]
    },
    {
      "cell_type": "code",
      "metadata": {
        "id": "p2gx2RyQ4On3",
        "colab_type": "code",
        "colab": {
          "base_uri": "https://localhost:8080/",
          "height": 34
        },
        "outputId": "e58660bb-34da-4286-f51a-707149a0eb70"
      },
      "source": [
        "test_pred = model.predict(X_te, verbose=1)"
      ],
      "execution_count": 33,
      "outputs": [
        {
          "output_type": "stream",
          "text": [
            "4797/4797 [==============================] - 7s 1ms/step\n"
          ],
          "name": "stdout"
        }
      ]
    },
    {
      "cell_type": "code",
      "metadata": {
        "id": "G1rxQDea5E7o",
        "colab_type": "code",
        "colab": {}
      },
      "source": [
        "idx2tag = {i:w for w,i in tag2idx.items()}\n",
        "def pred2label(pred):\n",
        "    out = []\n",
        "    for pred_i in pred:\n",
        "      out_i = []\n",
        "      for p in pred_i:\n",
        "        p_i = np.argmax(p)    #取索引\n",
        "        out_i.append(idx2tag[p_i].replace(\"PAD\",\"O\"))   #取标签\n",
        "      out.append(out_i)\n",
        "    return out"
      ],
      "execution_count": 0,
      "outputs": []
    },
    {
      "cell_type": "code",
      "metadata": {
        "id": "GZwFgwEh62Z2",
        "colab_type": "code",
        "colab": {}
      },
      "source": [
        "pred_labels = pred2label(test_pred)\n",
        "test_labels = pred2label(y_te)"
      ],
      "execution_count": 0,
      "outputs": []
    },
    {
      "cell_type": "code",
      "metadata": {
        "id": "IxDLFmIL7emR",
        "colab_type": "code",
        "colab": {
          "base_uri": "https://localhost:8080/",
          "height": 34
        },
        "outputId": "ec5bda98-825b-4ebe-f234-009a0ca0a696"
      },
      "source": [
        "print(\"F1-score: {:.2%}\".format(f1_score(test_labels, pred_labels)))"
      ],
      "execution_count": 36,
      "outputs": [
        {
          "output_type": "stream",
          "text": [
            "F1-score: 82.82%\n"
          ],
          "name": "stdout"
        }
      ]
    },
    {
      "cell_type": "code",
      "metadata": {
        "id": "uEHSJRPW7kjB",
        "colab_type": "code",
        "colab": {
          "base_uri": "https://localhost:8080/",
          "height": 255
        },
        "outputId": "eb4dff85-587e-4887-abc2-d4488f68de12"
      },
      "source": [
        "print(classification_report(test_labels, pred_labels, digits=4))"
      ],
      "execution_count": 37,
      "outputs": [
        {
          "output_type": "stream",
          "text": [
            "           precision    recall  f1-score   support\n",
            "\n",
            "      per     0.7799    0.7240    0.7509      1674\n",
            "      org     0.7376    0.6905    0.7133      2097\n",
            "      gpe     0.9718    0.9198    0.9451      1571\n",
            "      geo     0.8413    0.8958    0.8677      3722\n",
            "      tim     0.8812    0.8403    0.8603      2048\n",
            "      eve     0.5000    0.1290    0.2051        31\n",
            "      nat     0.7500    0.1579    0.2609        19\n",
            "      art     0.0000    0.0000    0.0000        39\n",
            "\n",
            "micro avg     0.8382    0.8184    0.8282     11201\n",
            "macro avg     0.8343    0.8184    0.8249     11201\n",
            "\n"
          ],
          "name": "stdout"
        }
      ]
    },
    {
      "cell_type": "markdown",
      "metadata": {
        "id": "XeUuokg3CcpG",
        "colab_type": "text"
      },
      "source": [
        "训练后的模型，我们需要对其性能进行评估，以此来确定训练效果是否达到了我们的预期。\n",
        "evaluate方法的参数X,y与fit方法的数据类型是一样的，一般会选择用测试数据进行评估。"
      ]
    },
    {
      "cell_type": "code",
      "metadata": {
        "id": "m6_IpaHx7wXo",
        "colab_type": "code",
        "colab": {
          "base_uri": "https://localhost:8080/",
          "height": 51
        },
        "outputId": "c2949a98-f0e1-49e1-9ef3-31a023df9c7d"
      },
      "source": [
        "model.evaluate(X_te, np.array(y_te))"
      ],
      "execution_count": 38,
      "outputs": [
        {
          "output_type": "stream",
          "text": [
            "4797/4797 [==============================] - 8s 2ms/step\n"
          ],
          "name": "stdout"
        },
        {
          "output_type": "execute_result",
          "data": {
            "text/plain": [
              "[0.012959391816795084, 0.9905651807785034]"
            ]
          },
          "metadata": {
            "tags": []
          },
          "execution_count": 38
        }
      ]
    },
    {
      "cell_type": "code",
      "metadata": {
        "id": "4HKK1Mr071U_",
        "colab_type": "code",
        "colab": {}
      },
      "source": [
        "i = 2020\n",
        "p = model.predict(np.array([X_te[i]]))"
      ],
      "execution_count": 0,
      "outputs": []
    },
    {
      "cell_type": "code",
      "metadata": {
        "id": "V9ENHrnB8Rl1",
        "colab_type": "code",
        "colab": {
          "base_uri": "https://localhost:8080/",
          "height": 34
        },
        "outputId": "782af63a-4c6f-4126-926d-5cdb018b1a41"
      },
      "source": [
        "p.shape"
      ],
      "execution_count": 40,
      "outputs": [
        {
          "output_type": "execute_result",
          "data": {
            "text/plain": [
              "(1, 75, 17)"
            ]
          },
          "metadata": {
            "tags": []
          },
          "execution_count": 40
        }
      ]
    },
    {
      "cell_type": "code",
      "metadata": {
        "id": "TsNC9Caa8Sdi",
        "colab_type": "code",
        "colab": {}
      },
      "source": [
        "p = np.argmax(p, axis=-1)"
      ],
      "execution_count": 0,
      "outputs": []
    },
    {
      "cell_type": "code",
      "metadata": {
        "id": "PXkM3hif8hJG",
        "colab_type": "code",
        "colab": {
          "base_uri": "https://localhost:8080/",
          "height": 102
        },
        "outputId": "e78466d6-2a51-4c5f-c3b9-fccc5e3fab6d"
      },
      "source": [
        "p"
      ],
      "execution_count": 42,
      "outputs": [
        {
          "output_type": "execute_result",
          "data": {
            "text/plain": [
              "array([[13,  3, 13, 13, 13, 13, 10, 13, 13, 10,  2,  7, 13, 13, 13, 13,\n",
              "        10,  5, 13, 13, 13, 13, 13, 13, 13, 13, 13, 13, 13, 13, 13, 13,\n",
              "        13, 13, 13, 13, 13, 13, 13, 13, 13, 13, 13, 13, 13, 13, 13, 13,\n",
              "        13, 13, 13, 13, 13, 13, 13, 13, 13, 13, 13, 13, 13, 13, 13, 13,\n",
              "        13, 13, 13, 13, 13, 13, 13, 13, 13, 13, 13]])"
            ]
          },
          "metadata": {
            "tags": []
          },
          "execution_count": 42
        }
      ]
    },
    {
      "cell_type": "code",
      "metadata": {
        "id": "Q6AGHVQl8iRb",
        "colab_type": "code",
        "colab": {}
      },
      "source": [
        "true = np.argmax(y_te[i], -1)"
      ],
      "execution_count": 0,
      "outputs": []
    },
    {
      "cell_type": "code",
      "metadata": {
        "id": "WMWDKcNx89o8",
        "colab_type": "code",
        "colab": {
          "base_uri": "https://localhost:8080/",
          "height": 102
        },
        "outputId": "42e547f5-81ed-4c52-8653-05b3ab77a746"
      },
      "source": [
        "true"
      ],
      "execution_count": 44,
      "outputs": [
        {
          "output_type": "execute_result",
          "data": {
            "text/plain": [
              "array([13,  3, 13, 13, 13, 13,  8, 13, 13, 10,  2,  7, 13, 13, 13, 13, 10,\n",
              "        5, 13, 13, 13, 13, 13, 13, 13, 13, 13, 13, 13, 13, 13, 13, 13, 13,\n",
              "       13, 13, 13, 13, 13, 13, 13, 13, 13, 13, 13, 13, 13, 13, 13, 13, 13,\n",
              "       13, 13, 13, 13, 13, 13, 13, 13, 13, 13, 13, 13, 13, 13, 13, 13, 13,\n",
              "       13, 13, 13, 13, 13, 13, 13])"
            ]
          },
          "metadata": {
            "tags": []
          },
          "execution_count": 44
        }
      ]
    },
    {
      "cell_type": "code",
      "metadata": {
        "id": "iahRyfGI9Fax",
        "colab_type": "code",
        "colab": {
          "base_uri": "https://localhost:8080/",
          "height": 1000
        },
        "outputId": "c46f7e38-883b-481c-fb6d-6bd0a9968d60"
      },
      "source": [
        "print(\"{:15}||{:5}||{}\".format(\"Word\", \"True\", \"Pred\"))\n",
        "print(30 * \"=\")\n",
        "for w, t, pred in zip(X_te[i], true, p[0]):\n",
        "    if w != 0:\n",
        "        print(\"{:15}: {:5} {}\".format(words[w-1], tags[t], tags[pred]))"
      ],
      "execution_count": 45,
      "outputs": [
        {
          "output_type": "stream",
          "text": [
            "Word           ||True ||Pred\n",
            "==============================\n",
            "paratroopers   : O     O\n",
            "tails          : B-gpe B-gpe\n",
            "Earnings       : O     O\n",
            "surpasses      : O     O\n",
            "Conakry        : O     O\n",
            "Dollar-priced  : O     O\n",
            "Massa          : B-org B-geo\n",
            "8.30           : O     O\n",
            "seeks          : O     O\n",
            "treating       : B-geo B-geo\n",
            "ceremony       : B-per B-per\n",
            "29,799         : I-per I-per\n",
            "sailors        : O     O\n",
            "shopkeeper     : O     O\n",
            "intervention   : O     O\n",
            "2012           : O     O\n",
            "Olympic        : B-geo B-geo\n",
            "Politics       : B-tim B-tim\n",
            "touchdowns     : O     O\n",
            "Mexican        : O     O\n",
            "Mexican        : O     O\n",
            "Mexican        : O     O\n",
            "Mexican        : O     O\n",
            "Mexican        : O     O\n",
            "Mexican        : O     O\n",
            "Mexican        : O     O\n",
            "Mexican        : O     O\n",
            "Mexican        : O     O\n",
            "Mexican        : O     O\n",
            "Mexican        : O     O\n",
            "Mexican        : O     O\n",
            "Mexican        : O     O\n",
            "Mexican        : O     O\n",
            "Mexican        : O     O\n",
            "Mexican        : O     O\n",
            "Mexican        : O     O\n",
            "Mexican        : O     O\n",
            "Mexican        : O     O\n",
            "Mexican        : O     O\n",
            "Mexican        : O     O\n",
            "Mexican        : O     O\n",
            "Mexican        : O     O\n",
            "Mexican        : O     O\n",
            "Mexican        : O     O\n",
            "Mexican        : O     O\n",
            "Mexican        : O     O\n",
            "Mexican        : O     O\n",
            "Mexican        : O     O\n",
            "Mexican        : O     O\n",
            "Mexican        : O     O\n",
            "Mexican        : O     O\n",
            "Mexican        : O     O\n",
            "Mexican        : O     O\n",
            "Mexican        : O     O\n",
            "Mexican        : O     O\n",
            "Mexican        : O     O\n",
            "Mexican        : O     O\n",
            "Mexican        : O     O\n",
            "Mexican        : O     O\n",
            "Mexican        : O     O\n",
            "Mexican        : O     O\n",
            "Mexican        : O     O\n",
            "Mexican        : O     O\n",
            "Mexican        : O     O\n",
            "Mexican        : O     O\n",
            "Mexican        : O     O\n",
            "Mexican        : O     O\n",
            "Mexican        : O     O\n",
            "Mexican        : O     O\n",
            "Mexican        : O     O\n",
            "Mexican        : O     O\n",
            "Mexican        : O     O\n",
            "Mexican        : O     O\n",
            "Mexican        : O     O\n",
            "Mexican        : O     O\n"
          ],
          "name": "stdout"
        }
      ]
    },
    {
      "cell_type": "code",
      "metadata": {
        "id": "u8Gd0fSc9pWo",
        "colab_type": "code",
        "colab": {}
      },
      "source": [
        ""
      ],
      "execution_count": 0,
      "outputs": []
    }
  ]
}